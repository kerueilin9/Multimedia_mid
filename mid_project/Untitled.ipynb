{
 "cells": [
  {
   "cell_type": "code",
   "execution_count": 2,
   "id": "d44d653b",
   "metadata": {},
   "outputs": [
    {
     "data": {
      "image/png": "[encoded data removed]",
      "text/plain": [
       "<Figure size 720x216 with 4 Axes>"
      ]
     },
     "metadata": {
      "needs_background": "light"
     },
     "output_type": "display_data"
    }
   ],
   "source": [
    "import cv2\n",
    "import matplotlib.pyplot as plt\n",
    "import numpy as np\n",
    "from sklearn import metrics\n",
    "from sklearn.neighbors import KNeighborsClassifier\n",
    "from sklearn.model_selection import train_test_split\n",
    "\n",
    "test_data = np.uint8(np.loadtxt(\"label.txt\"))\n",
    "\n",
    "video = cv2.VideoCapture(\"test_dataset.avi\")\n",
    "success = True\n",
    "\n",
    "video_data = []\n",
    "\n",
    "while(success):\n",
    "    success, image = video.read()\n",
    "    \n",
    "    if not success:\n",
    "        break\n",
    "    \n",
    "    image = cv2.cvtColor(image, cv2.COLOR_RGB2GRAY)\n",
    "    video_data.append(image)\n",
    "    \n",
    "data = np.array(video_data).reshape(len(video_data), -1)\n",
    "\n",
    "_, axes = plt.subplots(nrows = 1, ncols = 4, figsize = (10, 3))\n",
    "\n",
    "for ax, image, label in zip(axes, data, test_data):\n",
    "    ax.set_axis_off()\n",
    "    \n",
    "    image = image.reshape(28,28)\n",
    "    \n",
    "    ax.imshow(image, cmap = plt.cm.gray_r, interpolation = \"nearest\")\n",
    "    \n",
    "    ax.set_title(\"Training: %i\" % label)\n",
    "    \n",
    "    ax.get_figure().savefig(\"output1.png\")\n",
    "    \n",
    "    \n",
    "    "
   ]
  },
  {
   "cell_type": "code",
   "execution_count": null,
   "id": "cb8421db",
   "metadata": {},
   "outputs": [],
   "source": []
  }
 ],
 "metadata": {
  "kernelspec": {
   "display_name": "Python 3 (ipykernel)",
   "language": "python",
   "name": "python3"
  },
  "language_info": {
   "codemirror_mode": {
    "name": "ipython",
    "version": 3
   },
   "file_extension": ".py",
   "mimetype": "text/x-python",
   "name": "python",
   "nbconvert_exporter": "python",
   "pygments_lexer": "ipython3",
   "version": "3.9.7"
  }
 },
 "nbformat": 4,
 "nbformat_minor": 5
}
